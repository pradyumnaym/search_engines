{
 "cells": [
  {
   "cell_type": "markdown",
   "metadata": {},
   "source": [
    "Try to implement BM25:\n",
    "\n",
    "- Idf of each keyword needed\n",
    "- count how often the keyword is inside document (TF)\n",
    "- average document length"
   ]
  },
  {
   "cell_type": "markdown",
   "metadata": {},
   "source": [
    "Indexing\n",
    "\n",
    "- Words -> rows\n",
    "- element is document id and word-position\n",
    "\n",
    "- Clean up Documents\n",
    "- Build Index\n",
    "- Also include TF and IDF (think about good structure)\n",
    "\n",
    "- Try and implement with sample corpus (couldn't find one)"
   ]
  }
 ],
 "metadata": {
  "language_info": {
   "name": "python"
  }
 },
 "nbformat": 4,
 "nbformat_minor": 2
}
