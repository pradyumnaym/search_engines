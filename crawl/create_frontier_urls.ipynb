{
 "cells": [
  {
   "cell_type": "code",
   "execution_count": 8,
   "metadata": {},
   "outputs": [
    {
     "data": {
      "text/plain": [
       "True"
      ]
     },
     "execution_count": 8,
     "metadata": {},
     "output_type": "execute_result"
    }
   ],
   "source": [
    "import os\n",
    "import json\n",
    "import time\n",
    "import requests\n",
    "import random\n",
    "import validators\n",
    "import pickle\n",
    "\n",
    "from dotenv import load_dotenv\n",
    "from tqdm import tqdm\n",
    "\n",
    "load_dotenv()"
   ]
  },
  {
   "cell_type": "code",
   "execution_count": 3,
   "metadata": {},
   "outputs": [
    {
     "name": "stdout",
     "output_type": "stream",
     "text": [
      "Number of keywords:  4715\n"
     ]
    }
   ],
   "source": [
    "# Read the search keywords and frontier URLs set\n",
    "with open('../data/search_keywords.json', 'r') as fp:\n",
    "    keywords = json.load(fp)\n",
    "\n",
    "with open('../data/frontier_urls_initial.json', 'r') as fp:\n",
    "    frontier_urls = json.load(fp)\n",
    "\n",
    "print(\"Number of keywords: \", len(keywords))"
   ]
  },
  {
   "cell_type": "markdown",
   "metadata": {},
   "source": [
    "#### Creating frontier URLs list\n",
    "\n",
    "We now expand the list of frontier URLs using the keywords"
   ]
  },
  {
   "cell_type": "code",
   "execution_count": 4,
   "metadata": {},
   "outputs": [
    {
     "data": {
      "text/plain": [
       "[{'id': 'https://api.bing.microsoft.com/api/v7/#WebPages.0',\n",
       "  'name': 'University Library | University of Tübingen - Universität Tübingen',\n",
       "  'url': 'https://uni-tuebingen.de/en/facilities/university-library/',\n",
       "  'isFamilyFriendly': True,\n",
       "  'displayUrl': 'https://uni-tuebingen.de/en/facilities/university-library',\n",
       "  'snippet': 'University of Tübingen. Geschwister-Scholl-Platz 72074 Tübingen Germany. Phone: +49 7071 29-0 Contact us',\n",
       "  'dateLastCrawled': '2024-06-22T15:25:00.0000000Z',\n",
       "  'cachedPageUrl': 'http://cc.bingj.com/cache.aspx?q=library+T%C3%BCbingen&d=4778765720097741&mkt=de-DE&setlang=de-DE&w=xc6z2rYVTSN9Ib0OTx2o0eZaGIkNWO1g',\n",
       "  'language': 'en',\n",
       "  'isNavigational': False,\n",
       "  'noCache': False},\n",
       " {'id': 'https://api.bing.microsoft.com/api/v7/#WebPages.1',\n",
       "  'name': 'Universitätsbibliothek | Universität Tübingen',\n",
       "  'url': 'https://uni-tuebingen.de/einrichtungen/universitaetsbibliothek/',\n",
       "  'datePublished': '2024-06-04T00:00:00.0000000',\n",
       "  'datePublishedDisplayText': '4. Juni 2024',\n",
       "  'isFamilyFriendly': True,\n",
       "  'displayUrl': 'https://uni-tuebingen.de/einrichtungen/universitaetsbibliothek',\n",
       "  'snippet': 'ILIAS: Übung-Schulung. Donnerstag von 14:00-15:30 Uhr. Mehr erfahren. Weitere Schulungen. Neben Schulungen und Führungen bieten wir auch Beratungen an. Webseite der Universitätsbibliothek Tübingen.',\n",
       "  'dateLastCrawled': '2024-06-20T21:20:00.0000000Z',\n",
       "  'cachedPageUrl': 'http://cc.bingj.com/cache.aspx?q=library+T%C3%BCbingen&d=4814431127933059&mkt=de-DE&setlang=de-DE&w=UXPrGTP30eONWaCUo66zgi8tpjNdKwyd',\n",
       "  'language': 'de',\n",
       "  'isNavigational': False,\n",
       "  'noCache': False},\n",
       " {'id': 'https://api.bing.microsoft.com/api/v7/#WebPages.2',\n",
       "  'name': 'Raumbuchung | Universität Tübingen',\n",
       "  'url': 'https://uni-tuebingen.de/einrichtungen/universitaetsbibliothek/lernen-arbeiten/arbeitsplaetze/gruppenarbeitsplaetze/raumbuchung/',\n",
       "  'isFamilyFriendly': True,\n",
       "  'displayUrl': 'https://uni-tuebingen.de/einrichtungen/universitaetsbibliothek/lernen-arbeiten/...',\n",
       "  'snippet': 'Raumbuchung. Direkt zur Buchung. Im Ammerbau stehen Studierenden der Universität Tübingen mehr als 20 Gruppenarbeitsräume zum gemeinsamen Lernen und Arbeiten zur Verfügung. Die Räume sind online mit begrenzten Zeitkontingenten buchbar. Hier finden Sie ein Videotutorial zur Buchung der Gruppenarbeitsräume.',\n",
       "  'dateLastCrawled': '2024-06-18T23:14:00.0000000Z',\n",
       "  'cachedPageUrl': 'http://cc.bingj.com/cache.aspx?q=library+T%C3%BCbingen&d=4619512628121902&mkt=de-DE&setlang=de-DE&w=t_0ltNTJ28U0tid9UQ2ZiJTNoSLXOEUQ',\n",
       "  'language': 'de',\n",
       "  'isNavigational': False,\n",
       "  'noCache': False},\n",
       " {'id': 'https://api.bing.microsoft.com/api/v7/#WebPages.3',\n",
       "  'name': 'Bücher & mehr',\n",
       "  'url': 'https://rds-tue.ibs-bw.de/opac/',\n",
       "  'isFamilyFriendly': True,\n",
       "  'displayUrl': 'https://rds-tue.ibs-bw.de/opac',\n",
       "  'snippet': 'Frühere Suchen. Merkliste () Hilfe. Suchen Sie wahlweise in wissenschaftlichen Bibliotheksbeständen Tübingens ( Bücher & mehr) oder in weiteren Literaturnachweisen ( Artikel & mehr ). Zugriff auf lizenzierte E-Medien erhalten Sie im Universitätsnetz oder nach Login.',\n",
       "  'dateLastCrawled': '2024-06-21T18:16:00.0000000Z',\n",
       "  'cachedPageUrl': 'http://cc.bingj.com/cache.aspx?q=library+T%C3%BCbingen&d=4867001528025281&mkt=de-DE&setlang=de-DE&w=5p_zQnpEnkSlQYcodiHfiIVSekXf3Xzd',\n",
       "  'language': 'de',\n",
       "  'isNavigational': False,\n",
       "  'noCache': False},\n",
       " {'id': 'https://api.bing.microsoft.com/api/v7/#WebPages.4',\n",
       "  'name': 'Online-Katalog der Universität Tübingen - tue.ibs-bw.de',\n",
       "  'url': 'https://tue.ibs-bw.de/aDISWeb/app?service=direct/0/Home/$DirectLink&sp=SOPAC02',\n",
       "  'isFamilyFriendly': True,\n",
       "  'displayUrl': 'https://tue.ibs-bw.de',\n",
       "  'snippet': 'Katalog. Aktuelle Seite: Online-Katalog der Universität Tübingen. Druckversion Drucken Abbrechen. In diesem Katalog finden Sie Bücher, Print- und Onlinezeitschriften, digitalisierte Bestände, AV-Medien etc. Hier können Sie außerdem die Bestände der Universitätsbibliothek bestellen.',\n",
       "  'dateLastCrawled': '2024-06-19T17:40:00.0000000Z',\n",
       "  'cachedPageUrl': 'http://cc.bingj.com/cache.aspx?q=library+T%C3%BCbingen&d=4789765127298689&mkt=de-DE&setlang=de-DE&w=htz7FaXMb9SCImkSsMz-uW-2t5LeMVxg',\n",
       "  'language': 'de',\n",
       "  'isNavigational': False,\n",
       "  'noCache': False},\n",
       " {'id': 'https://api.bing.microsoft.com/api/v7/#WebPages.5',\n",
       "  'contractualRules': [{'_type': 'ContractualRules/LicenseAttribution',\n",
       "    'targetPropertyName': 'snippet',\n",
       "    'targetPropertyIndex': 5,\n",
       "    'mustBeCloseToContent': True,\n",
       "    'license': {'name': 'CC-BY-SA',\n",
       "     'url': 'http://creativecommons.org/licenses/by-sa/3.0/'},\n",
       "    'licenseNotice': 'Text lizenziert unter CC-BY-SA'}],\n",
       "  'name': 'Universitätsbibliothek Tübingen – Wikipedia',\n",
       "  'url': 'https://de.wikipedia.org/wiki/Universit%C3%A4tsbibliothek_T%C3%BCbingen',\n",
       "  'isFamilyFriendly': True,\n",
       "  'displayUrl': 'https://de.wikipedia.org/wiki/Universitätsbibliothek_Tübingen',\n",
       "  'snippet': 'Universitätsbibliothek Tübingen. Die 1499 erstmals erwähnte Universitätsbibliothek Tübingen (kurz UB Tübingen) ist eine zentrale Einrichtung der 1477 gegründeten Eberhard Karls Universität Tübingen . Das Hauptgebäude befindet sich in der Wilhelmstraße 32.',\n",
       "  'dateLastCrawled': '2024-06-19T17:50:00.0000000Z',\n",
       "  'cachedPageUrl': 'http://cc.bingj.com/cache.aspx?q=library+T%C3%BCbingen&d=4872546324134721&mkt=de-DE&setlang=de-DE&w=nsxfePGF1rOnxyYzbP-4W69SbfBKHyTE',\n",
       "  'language': 'de',\n",
       "  'isNavigational': False,\n",
       "  'noCache': False},\n",
       " {'id': 'https://api.bing.microsoft.com/api/v7/#WebPages.6',\n",
       "  'contractualRules': [{'_type': 'ContractualRules/LicenseAttribution',\n",
       "    'targetPropertyName': 'snippet',\n",
       "    'targetPropertyIndex': 6,\n",
       "    'mustBeCloseToContent': True,\n",
       "    'license': {'name': 'CC-BY-SA',\n",
       "     'url': 'http://creativecommons.org/licenses/by-sa/3.0/'},\n",
       "    'licenseNotice': 'Text lizenziert unter CC-BY-SA'}],\n",
       "  'name': 'University Library of Tübingen - Wikipedia',\n",
       "  'url': 'https://en.wikipedia.org/wiki/University_Library_of_T%C3%BCbingen',\n",
       "  'isFamilyFriendly': True,\n",
       "  'displayUrl': 'https://en.wikipedia.org/wiki/University_Library_of_Tübingen',\n",
       "  'snippet': 'The University Library of Tübingen ( German: Universitätsbibliothek Tübingen; UB Tübingen) is the main library of the University of Tübingen, one of the biggest and most renowned universities in Baden-Württemberg, Germany . The people who worked for the University Library of Tübingen include Hermann Kurz, Adelbert von Keller, Robert von ...',\n",
       "  'dateLastCrawled': '2024-03-23T22:22:00.0000000Z',\n",
       "  'cachedPageUrl': 'http://cc.bingj.com/cache.aspx?q=library+T%C3%BCbingen&d=4677155375292435&mkt=de-DE&setlang=de-DE&w=6Afc6Ovq2yVO7LSjGDT_N7C9JDM062-2',\n",
       "  'language': 'en',\n",
       "  'isNavigational': False,\n",
       "  'noCache': False},\n",
       " {'id': 'https://api.bing.microsoft.com/api/v7/#WebPages.7',\n",
       "  'name': 'Lesen. Entdecken. Verstehen. - Stadtbücherei Tübingen',\n",
       "  'url': 'https://www.tuebingen.de/stadtbuecherei/',\n",
       "  'isFamilyFriendly': True,\n",
       "  'displayUrl': 'https://www.tuebingen.de/stadtbuecherei',\n",
       "  'snippet': 'Lesen. Entdecken. Verstehen. Herzlich willkommen in der Stadtbücherei! Unsere Hauptstelle hat in den vergangenen Monaten ein Foyer mit Aufenthaltsqualität sowie einen barrierefreien Eingangsbereich bekommen. Wir laden Sie zum Verweilen ins neue öffentliche Wohnzimmer ein. Kaffeeautomat, Wasserspender sowie Babynahrungs-Wärmer stehen allen ...',\n",
       "  'dateLastCrawled': '2024-06-22T00:24:00.0000000Z',\n",
       "  'cachedPageUrl': 'http://cc.bingj.com/cache.aspx?q=library+T%C3%BCbingen&d=5017668974757625&mkt=de-DE&setlang=de-DE&w=Pst0hElH7AzpxadgQzEKRDNTIdhEfQ6O',\n",
       "  'language': 'de',\n",
       "  'isNavigational': False,\n",
       "  'noCache': False},\n",
       " {'id': 'https://api.bing.microsoft.com/api/v7/#WebPages.8',\n",
       "  'name': 'Ausleihe - Stadtbücherei Tübingen',\n",
       "  'url': 'https://www.tuebingen.de/stadtbuecherei/1310.html',\n",
       "  'isFamilyFriendly': True,\n",
       "  'displayUrl': 'https://www.tuebingen.de/stadtbuecherei/1310.html',\n",
       "  'snippet': 'Bitte beachten Sie: Anschaffungsvorschläge sind nur mit einem gültigen Leseausweis der Stadtbücherei Tübingen möglich. Der von Ihnen gewünschte Titel wird im Falle einer Anschaffung gegen eine Bearbeitungsgebühr von einem Euro für Sie vorgemerkt. Benutzungsordnung. Benutzungsordnung der Stadtbücherei; Library regulations',\n",
       "  'dateLastCrawled': '2024-06-19T23:51:00.0000000Z',\n",
       "  'cachedPageUrl': 'http://cc.bingj.com/cache.aspx?q=library+T%C3%BCbingen&d=4686136151865093&mkt=de-DE&setlang=de-DE&w=pozldRLfL4NTAmoTpW8dig-zSqRfHTk9',\n",
       "  'language': 'de',\n",
       "  'isNavigational': False,\n",
       "  'noCache': False},\n",
       " {'id': 'https://api.bing.microsoft.com/api/v7/#WebPages.9',\n",
       "  'name': 'Search Home :: IxTheo',\n",
       "  'url': 'https://ixtheo.de/',\n",
       "  'isFamilyFriendly': True,\n",
       "  'displayUrl': 'https://ixtheo.de',\n",
       "  'snippet': 'When necessary, the required books are purchased by the University Library (UB) in Tübingen. At the IxTheo website, users may directly trigger the purchase of monographs which are not available at their current location and cannot be obtained through an inter-library loan. Detailed explanation of our PDA system',\n",
       "  'dateLastCrawled': '2024-06-22T15:34:00.0000000Z',\n",
       "  'cachedPageUrl': 'http://cc.bingj.com/cache.aspx?q=library+T%C3%BCbingen&d=4900291815084871&mkt=de-DE&setlang=de-DE&w=r4TjjjQ2SKK0ZW8KvPCO_atyw9RaWmAJ',\n",
       "  'language': 'en',\n",
       "  'isNavigational': False,\n",
       "  'noCache': False},\n",
       " {'id': 'https://api.bing.microsoft.com/api/v7/#WebPages.10',\n",
       "  'name': 'Collections of the University Library - MUT Tübingen - uni-tuebingen.de',\n",
       "  'url': 'https://www.unimuseum.uni-tuebingen.de/en/collections/collections-of-the-university-library',\n",
       "  'isFamilyFriendly': True,\n",
       "  'displayUrl': 'https://www.unimuseum.uni-tuebingen.de/.../collections-of-the-university-library',\n",
       "  'snippet': 'The University Library has been acquiring literature from all disciplines since its foundation in the late fifteenth century and currently has a collection of about four million items. Of great value are the historical holdings, such as original manuscripts from India (almost 900) and the Near East (over 900), about 350 occidental medieval ...',\n",
       "  'dateLastCrawled': '2024-06-21T15:07:00.0000000Z',\n",
       "  'cachedPageUrl': 'http://cc.bingj.com/cache.aspx?q=library+T%C3%BCbingen&d=4621780360701009&mkt=de-DE&setlang=de-DE&w=BNyyBIh9ngA1vgjVaG1ePu217_i6ldeP',\n",
       "  'language': 'en',\n",
       "  'isNavigational': False,\n",
       "  'noCache': False},\n",
       " {'id': 'https://api.bing.microsoft.com/api/v7/#WebPages.11',\n",
       "  'name': 'Catalogues | University of Tübingen - Universität Tübingen',\n",
       "  'url': 'https://uni-tuebingen.de/en/facilities/university-library/searching-borrowing/catalogues/',\n",
       "  'isFamilyFriendly': True,\n",
       "  'displayUrl': 'https://uni-tuebingen.de/en/facilities/university-library/searching-borrowing/catalogues',\n",
       "  'snippet': 'In the Catalog plus you can search in parallel in the scientific library holdings of Tübingen as well as in further literature references. Special feature: You can search for printed and electronic works at the same time (\"Books & more\"), but also receive hits from databases (\"Articles & more\"). Contents of the Catalog plus and help texts.',\n",
       "  'dateLastCrawled': '2024-06-16T12:16:00.0000000Z',\n",
       "  'cachedPageUrl': 'http://cc.bingj.com/cache.aspx?q=library+T%C3%BCbingen&d=4928965021074058&mkt=de-DE&setlang=de-DE&w=FBtwdZ-DuT3BbymvkBtTZ8eXCzQke3AL',\n",
       "  'language': 'en',\n",
       "  'isNavigational': False,\n",
       "  'noCache': False},\n",
       " {'id': 'https://api.bing.microsoft.com/api/v7/#WebPages.12',\n",
       "  'name': 'Bibliothek | Universitätsklinikum Tübingen - uni-tuebingen.de',\n",
       "  'url': 'https://www.medizin.uni-tuebingen.de/Studierende/Bibliothek.html',\n",
       "  'isFamilyFriendly': True,\n",
       "  'displayUrl': 'https://www.medizin.uni-tuebingen.de/Studierende/Bibliothek.html',\n",
       "  'snippet': 'Die Medizinbibliothek Tübingen stellt elektronische und gedruckte Medien zu den Fachbereichen der Klinischen und Experimentellen Medizin sowie den klinischen Teil der Lehrbuchsammlung Medizin bereit. Die Bibliothek ist für Studierende rund um die Uhr zugänglich. Unsere Dienstleistungen sind neben der Literaturversorgung für Ärzte und ...',\n",
       "  'dateLastCrawled': '2024-06-22T12:14:00.0000000Z',\n",
       "  'cachedPageUrl': 'http://cc.bingj.com/cache.aspx?q=library+T%C3%BCbingen&d=4663707829804133&mkt=de-DE&setlang=de-DE&w=BRbD_5k7BhpIzyxX2IqveURxSY02t2IT',\n",
       "  'language': 'de',\n",
       "  'isNavigational': False,\n",
       "  'noCache': False},\n",
       " {'id': 'https://api.bing.microsoft.com/api/v7/#WebPages.13',\n",
       "  'name': 'Bibliothek | d.a.i. Deutsch-Amerikanisches Institut Tübingen',\n",
       "  'url': 'https://www.dai-tuebingen.de/bibliothek',\n",
       "  'isFamilyFriendly': True,\n",
       "  'displayUrl': 'https://www.dai-tuebingen.de/bibliothek',\n",
       "  'snippet': 'Bei Fragen oder Anregungen hilft unser Bibliotheks-Team gerne weiter! Telefon-Ausleihetheke: 07071/79526-16. E-Mail: bibliothek@dai-tuebingen.de.',\n",
       "  'dateLastCrawled': '2024-06-19T05:08:00.0000000Z',\n",
       "  'cachedPageUrl': 'http://cc.bingj.com/cache.aspx?q=library+T%C3%BCbingen&d=4653872360534359&mkt=de-DE&setlang=de-DE&w=FyhMc_neGRpEVk8FwlSz2NVQTnHtYLIA',\n",
       "  'language': 'de',\n",
       "  'isNavigational': False,\n",
       "  'noCache': False},\n",
       " {'id': 'https://api.bing.microsoft.com/api/v7/#WebPages.14',\n",
       "  'name': 'Publikationsdienste- Publikationssystem der Universität Tübingen',\n",
       "  'url': 'http://tobias-lib.ub.uni-tuebingen.de/xmlui/',\n",
       "  'isFamilyFriendly': True,\n",
       "  'displayUrl': 'tobias-lib.ub.uni-tuebingen.de',\n",
       "  'snippet': 'Willkommen beim Online-Publikationssystem der Universität Tübingen. In dieser Bereichsübersicht finden Sie die Dienste des Tübinger Publikationssystems. Bereiche im Publikationssystem . Wählen Sie einen Bereich, um die enthaltenen Sammlungen zu durchstöbern. TOBIAS-audio (1258) Verschiedene auditive Inhalte. TOBIAS-lib - Publikationen und Dissertationen (13080) TOBIAS-portale (24785 ...',\n",
       "  'dateLastCrawled': '2024-06-18T02:02:00.0000000Z',\n",
       "  'language': 'de',\n",
       "  'isNavigational': False,\n",
       "  'noCache': True},\n",
       " {'id': 'https://api.bing.microsoft.com/api/v7/#WebPages.15',\n",
       "  'name': 'Datenbanken | Universitätsklinikum Tübingen - uni-tuebingen.de',\n",
       "  'url': 'https://www.medizin.uni-tuebingen.de/de/das-klinikum/einrichtungen/zentrale-einrichtungen/bibliothek/datenbanken',\n",
       "  'isFamilyFriendly': True,\n",
       "  'displayUrl': 'https://www.medizin.uni-tuebingen.de/de/das-klinikum/einrichtungen/zentrale...',\n",
       "  'snippet': 'EBM-Reviews (Ovid) Cochrane Library: systematische Reviews, Volltexte unter \"EBM Topic Reviews\". Beinhaltet Cochrane Library (inkl. Zugänge), MEDLINE und Biosis: nur im Uni- und/oder Kliniknetz Tübingen verfügbar: Examen Online Klinik und Vorklinik: Lernprogramm, Registrierung erforderlich: nur im Uni- und/oder Kliniknetz Tübingen verfügbar',\n",
       "  'dateLastCrawled': '2024-06-13T05:16:00.0000000Z',\n",
       "  'cachedPageUrl': 'http://cc.bingj.com/cache.aspx?q=library+T%C3%BCbingen&d=4564249274688142&mkt=de-DE&setlang=de-DE&w=b1nS1CVdk9sblNSQWi88PG7gctqD2IFS',\n",
       "  'language': 'de',\n",
       "  'isNavigational': False,\n",
       "  'noCache': False},\n",
       " {'id': 'https://api.bing.microsoft.com/api/v7/#WebPages.16',\n",
       "  'name': 'Hermann Gundert Portal - Home',\n",
       "  'url': 'https://gundert-portal.de/',\n",
       "  'isFamilyFriendly': True,\n",
       "  'displayUrl': 'https://gundert-portal.de',\n",
       "  'snippet': 'The Hermann Gundert estate at Tübingen university library contains printed and lithographed books and pamphlets in Malayalam, Kannada, Tulu, Tamil, Telugu, Sanskrit and other languages, Indian manuscripts including several palm-leaf manuscripts, copies of texts and notebooks in various languages by Hermann Gundert and his missionary colleagues. On this portal we have included all 19th century ...',\n",
       "  'dateLastCrawled': '2024-06-19T08:12:00.0000000Z',\n",
       "  'cachedPageUrl': 'http://cc.bingj.com/cache.aspx?q=library+T%C3%BCbingen&d=4526303244595723&mkt=de-DE&setlang=de-DE&w=kcxB1vy79u8KUzYyRa8CJitSc9fEbSLG',\n",
       "  'language': 'en',\n",
       "  'isNavigational': False,\n",
       "  'noCache': False},\n",
       " {'id': 'https://api.bing.microsoft.com/api/v7/#WebPages.17',\n",
       "  'name': 'utb elibrary | Home',\n",
       "  'url': 'https://elibrary.utb.de/',\n",
       "  'isFamilyFriendly': True,\n",
       "  'displayUrl': 'https://elibrary.utb.de',\n",
       "  'snippet': 'Die utb elibrary ist eine verlagsübergreifende Online-Bibliothek mit über 18.000 Titeln von mehr als 40 Verlagen. Sie wird von der Stuttgarter Verlagskooperation utb betrieben und bereitgestellt. Neben allen digital lieferbaren utb-Lehrbüchern enthält die elibrary auch ein breites Angebot an wissenschaftlicher Fachliteratur anderer Verlage, sowohl als E-Books wie auch in Form von E-Journals.',\n",
       "  'dateLastCrawled': '2024-06-20T06:22:00.0000000Z',\n",
       "  'language': 'de',\n",
       "  'isNavigational': False,\n",
       "  'noCache': True},\n",
       " {'id': 'https://api.bing.microsoft.com/api/v7/#WebPages.18',\n",
       "  'name': 'A Profile of the Library | University of Tübingen - Universität Tübingen',\n",
       "  'url': 'https://uni-tuebingen.de/en/facilities/university-library/about-us/a-profile-of-the-library/',\n",
       "  'isFamilyFriendly': True,\n",
       "  'displayUrl': 'https://uni-tuebingen.de/en/facilities/university-library/about-us/a-profile-of-the...',\n",
       "  'snippet': 'Tübingen University Library is the second-largest scientific library in Baden-Württemberg. It provides literature and services not only to scientists, staff and students at the University of Tübingen, but is also open to researchers from all around the world as well as to members of the public. Tübingen University Library is a central ...',\n",
       "  'dateLastCrawled': '2024-06-16T07:37:00.0000000Z',\n",
       "  'cachedPageUrl': 'http://cc.bingj.com/cache.aspx?q=library+T%C3%BCbingen&d=5065901457546833&mkt=de-DE&setlang=de-DE&w=zMstFveqEyT_tI_DrTDthstCHeNSO3V1',\n",
       "  'language': 'en',\n",
       "  'isNavigational': False,\n",
       "  'noCache': False},\n",
       " {'id': 'https://api.bing.microsoft.com/api/v7/#WebPages.19',\n",
       "  'name': 'Publication services- Publikationssystem der Universität Tübingen',\n",
       "  'url': 'https://publikationen.uni-tuebingen.de/xmlui/?locale-attribute=en',\n",
       "  'isFamilyFriendly': True,\n",
       "  'displayUrl': 'https://publikationen.uni-tuebingen.de/xmlui/?locale-attribute=en',\n",
       "  'snippet': 'Publication services- Publikationssystem der Universität Tübingen. Login. Publication services; JavaScript is disabled for your browser. Some features of this site may not work without it. University Repository. Welcome to the online Publication System of the University of Tübingen. Communities in Publication System. Select a community to browse its collections. TOBIAS-audio (1258 ...',\n",
       "  'dateLastCrawled': '2024-06-10T05:36:00.0000000Z',\n",
       "  'language': 'en',\n",
       "  'isNavigational': False,\n",
       "  'noCache': True}]"
      ]
     },
     "execution_count": 4,
     "metadata": {},
     "output_type": "execute_result"
    }
   ],
   "source": [
    "headers = {\n",
    "    \"Ocp-Apim-Subscription-Key\": os.getenv(\"BING_API_KEY\"),\n",
    "    \"X-Search-Location\": \"lat:48.31273;long:-9.03201;re:50\"\n",
    "}\n",
    "\n",
    "def get_search_results(query):\n",
    "\n",
    "    try:\n",
    "        if \"tübingen\" not in query.lower():\n",
    "            query += \" Tübingen\"\n",
    "\n",
    "        params = {\"q\": query,  'responseFilter': 'Webpages', 'count': 20}\n",
    "        response = requests.get(os.environ['BING_ENDPOINT'], headers=headers, params=params)\n",
    "        search_results = response.json()\n",
    "\n",
    "        # wait for 1 second to avoid rate limiting\n",
    "        time.sleep(1)\n",
    "        return search_results['webPages']['value']\n",
    "    \n",
    "    except Exception as e:\n",
    "        print(\"Error: \", e)\n",
    "        return []\n",
    "\n",
    "search_results = get_search_results(\"library\")\n",
    "search_results"
   ]
  },
  {
   "cell_type": "code",
   "execution_count": 5,
   "metadata": {},
   "outputs": [
    {
     "name": "stdout",
     "output_type": "stream",
     "text": [
      "Error:  'webPages'\n",
      "Error:  'webPages'\n",
      "Error:  'webPages'\n",
      "Error:  'webPages'\n",
      "Error:  'webPages'\n",
      "Error:  'webPages'\n",
      "Error:  'webPages'\n",
      "Error:  'webPages'\n",
      "Error:  'webPages'\n",
      "Error:  'webPages'\n",
      "Error:  'webPages'\n",
      "Error:  'webPages'\n"
     ]
    }
   ],
   "source": [
    "# Use multiprocessing to create 100 parallel processes to fetch search results\n",
    "# map each keyword to get_search_results function\n",
    "\n",
    "import multiprocess as mp\n",
    "\n",
    "pool = mp.Pool(90)\n",
    "search_results = pool.map(get_search_results, keywords)"
   ]
  },
  {
   "cell_type": "code",
   "execution_count": 6,
   "metadata": {},
   "outputs": [
    {
     "name": "stdout",
     "output_type": "stream",
     "text": [
      "Obtrained 4703 search results\n"
     ]
    }
   ],
   "source": [
    "print(\"Obtrained {} search results\".format(len([x for x in search_results if x])))"
   ]
  },
  {
   "cell_type": "code",
   "execution_count": 10,
   "metadata": {},
   "outputs": [],
   "source": [
    "keyword_results = zip(keywords, search_results)\n",
    "\n",
    "# Save the search results to a pickle file\n",
    "with open('../data/search_results.pkl', 'wb') as fp:\n",
    "    pickle.dump(keyword_results, fp)"
   ]
  },
  {
   "cell_type": "code",
   "execution_count": 11,
   "metadata": {},
   "outputs": [
    {
     "name": "stdout",
     "output_type": "stream",
     "text": [
      "Number of URLs in the frontier:  61935\n"
     ]
    }
   ],
   "source": [
    "# combine the URLs from the search results and the frontier URLs\n",
    "\n",
    "frontier_urls = set(frontier_urls)\n",
    "for keyword, results in keyword_results:\n",
    "    for result in results:\n",
    "        url = result['url']\n",
    "        frontier_urls.add(url)\n",
    "\n",
    "\n",
    "print(\"Number of URLs in the frontier: \", len(frontier_urls))"
   ]
  },
  {
   "cell_type": "code",
   "execution_count": 12,
   "metadata": {},
   "outputs": [],
   "source": [
    "# Write the updated frontier URLs to a pickle file\n",
    "\n",
    "with open('../data/frontier_urls.pkl', 'wb') as fp:\n",
    "    pickle.dump(frontier_urls, fp)"
   ]
  },
  {
   "cell_type": "code",
   "execution_count": 15,
   "metadata": {},
   "outputs": [
    {
     "name": "stdout",
     "output_type": "stream",
     "text": [
      "Total number of URLs in search results:  93972\n",
      "Number of unique URLs in search results:  60917\n"
     ]
    }
   ],
   "source": [
    "# count the number of URLs in result set\n",
    "all_results = sum(search_results, [])\n",
    "\n",
    "print(\"Total number of URLs in search results: \", len(all_results))\n",
    "print(\"Number of unique URLs in search results: \", len(set([x['url'] for x in all_results])))"
   ]
  },
  {
   "cell_type": "code",
   "execution_count": null,
   "metadata": {},
   "outputs": [],
   "source": []
  }
 ],
 "metadata": {
  "kernelspec": {
   "display_name": ".venv",
   "language": "python",
   "name": "python3"
  },
  "language_info": {
   "codemirror_mode": {
    "name": "ipython",
    "version": 3
   },
   "file_extension": ".py",
   "mimetype": "text/x-python",
   "name": "python",
   "nbconvert_exporter": "python",
   "pygments_lexer": "ipython3",
   "version": "3.9.7"
  }
 },
 "nbformat": 4,
 "nbformat_minor": 2
}
