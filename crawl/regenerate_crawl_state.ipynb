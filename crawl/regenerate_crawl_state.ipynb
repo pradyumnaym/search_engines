{
 "cells": [
  {
   "cell_type": "code",
   "execution_count": 5,
   "metadata": {},
   "outputs": [],
   "source": [
    "import pickle\n",
    "from crawl_parse_utils import check_url_relevance, detect\n",
    "from rocksdict import Rdict\n",
    "from tqdm import tqdm"
   ]
  },
  {
   "cell_type": "code",
   "execution_count": 4,
   "metadata": {},
   "outputs": [],
   "source": [
    "db = Rdict('../data/crawl_data')"
   ]
  },
  {
   "cell_type": "code",
   "execution_count": 6,
   "metadata": {},
   "outputs": [
    {
     "name": "stderr",
     "output_type": "stream",
     "text": [
      "0it [00:00, ?it/s]"
     ]
    },
    {
     "name": "stderr",
     "output_type": "stream",
     "text": [
      "2498277it [30:32, 1363.64it/s] "
     ]
    },
    {
     "name": "stdout",
     "output_type": "stream",
     "text": [
      "Total items: 2498277\n",
      "Visited items: 1068359\n",
      "Rejected items: 1429918\n",
      "All discovered items: 2498277\n"
     ]
    },
    {
     "name": "stderr",
     "output_type": "stream",
     "text": [
      "\n"
     ]
    }
   ],
   "source": [
    "total_items = 0\n",
    "none_items = 0\n",
    "visited_items = set()\n",
    "rejected_items = set()\n",
    "\n",
    "all_discovered_items = set()\n",
    "\n",
    "for key, value in tqdm(db.items()):\n",
    "    total_items += 1\n",
    "    all_discovered_items.add(key)\n",
    "\n",
    "    if value is None:\n",
    "        none_items += 1\n",
    "        rejected_items.add(key)\n",
    "        continue\n",
    "\n",
    "    if check_url_relevance(value) and detect(value.replace('\\n', \" \"))['lang'] == 'en':\n",
    "        visited_items.add(key)\n",
    "    else:\n",
    "        rejected_items.add(key)\n",
    "\n",
    "print('Total items:', total_items)\n",
    "print('Visited items:', len(visited_items))\n",
    "print('Rejected items:', len(rejected_items))\n",
    "print('All discovered items:', len(all_discovered_items))\n"
   ]
  },
  {
   "cell_type": "code",
   "execution_count": 12,
   "metadata": {},
   "outputs": [
    {
     "name": "stdout",
     "output_type": "stream",
     "text": [
      "None items: 161223\n"
     ]
    }
   ],
   "source": [
    "print(\"None items:\", none_items)"
   ]
  },
  {
   "cell_type": "code",
   "execution_count": 7,
   "metadata": {},
   "outputs": [],
   "source": [
    "with open('../data/crawl_state.pkl', 'rb') as f:\n",
    "    cs = pickle.load(f)"
   ]
  },
  {
   "cell_type": "code",
   "execution_count": 11,
   "metadata": {},
   "outputs": [
    {
     "data": {
      "text/plain": [
       "39"
      ]
     },
     "execution_count": 11,
     "metadata": {},
     "output_type": "execute_result"
    }
   ],
   "source": [
    "import gc\n",
    "gc.collect()"
   ]
  },
  {
   "cell_type": "code",
   "execution_count": 13,
   "metadata": {},
   "outputs": [
    {
     "name": "stderr",
     "output_type": "stream",
     "text": [
      "100%|██████████| 2498277/2498277 [00:01<00:00, 1515123.67it/s]\n",
      "100%|██████████| 1068359/1068359 [00:00<00:00, 1641347.85it/s]\n",
      "100%|██████████| 1429918/1429918 [00:00<00:00, 1588567.42it/s]\n"
     ]
    }
   ],
   "source": [
    "# cs['all_discovered_urls'].update(all_discovered_items)\n",
    "# cs['visited'].update(visited_items)\n",
    "# cs['rejected'].update(rejected_items)\n",
    "\n",
    "for key in tqdm(all_discovered_items):\n",
    "    if key not in cs['all_discovered_urls']:\n",
    "        cs['all_discovered_urls'].add(key)\n",
    "\n",
    "for key in tqdm(visited_items):\n",
    "    if key not in cs['visited']:\n",
    "        cs['visited'].add(key)\n",
    "\n",
    "for key in tqdm(rejected_items):\n",
    "    if key not in cs['rejected']:\n",
    "        cs['rejected'].add(key)\n"
   ]
  },
  {
   "cell_type": "code",
   "execution_count": 17,
   "metadata": {},
   "outputs": [],
   "source": [
    "cs['frontier'].extend(list(cs['to_visit']))\n",
    "cs['to_visit'] = set()"
   ]
  },
  {
   "cell_type": "code",
   "execution_count": 18,
   "metadata": {},
   "outputs": [],
   "source": [
    "with open('../data/crawl_state.pkl', 'wb') as f:\n",
    "    pickle.dump(cs, f)"
   ]
  },
  {
   "cell_type": "code",
   "execution_count": 16,
   "metadata": {},
   "outputs": [
    {
     "name": "stdout",
     "output_type": "stream",
     "text": [
      "('https://web.archive.org/web/20121008161744/http://www.live-like-a-german.com/region/baden-wuerttemberg/travel_guides', 3, 'web.archive.org')\n"
     ]
    }
   ],
   "source": []
  },
  {
   "cell_type": "code",
   "execution_count": null,
   "metadata": {},
   "outputs": [],
   "source": []
  }
 ],
 "metadata": {
  "kernelspec": {
   "display_name": ".venv",
   "language": "python",
   "name": "python3"
  },
  "language_info": {
   "codemirror_mode": {
    "name": "ipython",
    "version": 3
   },
   "file_extension": ".py",
   "mimetype": "text/x-python",
   "name": "python",
   "nbconvert_exporter": "python",
   "pygments_lexer": "ipython3",
   "version": "3.10.12"
  }
 },
 "nbformat": 4,
 "nbformat_minor": 2
}
