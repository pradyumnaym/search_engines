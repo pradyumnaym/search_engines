{
 "cells": [
  {
   "cell_type": "code",
   "execution_count": 2,
   "metadata": {},
   "outputs": [],
   "source": [
    "import pickle\n",
    "from crawl_parse_utils import check_url_relevance, detect\n",
    "from rocksdict import Rdict\n",
    "from tqdm import tqdm"
   ]
  },
  {
   "cell_type": "code",
   "execution_count": 3,
   "metadata": {},
   "outputs": [],
   "source": [
    "db = Rdict('../../data/crawl_data')\n",
    "titles_db = Rdict('../../data/titles')"
   ]
  },
  {
   "cell_type": "code",
   "execution_count": 8,
   "metadata": {},
   "outputs": [
    {
     "name": "stdout",
     "output_type": "stream",
     "text": [
      "Number of titles in the database: 304182\n",
      "Http://www.sacred-texts.com/tao Taoism - Sacred-Texts\n",
      "http://1001genomes.org/data/MPI/MPISchneeberger2011/releases/current/Bur-0/hdr.annotation.TAIR8.txt 404 Not Found\n",
      "http://1001genomes.org/data/MPI/MPISchneeberger2011/releases/current/Kro-0/del.annotation.TAIR8.txt 404 Not Found\n",
      "http://1001genomes.org/data/MPI/MPISchneeberger2011/releases/current/Kro-0/snp.annotation.TAIR8.txt 404 Not Found\n",
      "http://1001genomes.org/data/MPI/MPISchneeberger2011/releases/current/Ler-1/del.annotation.TAIR8.txt 404 Not Found\n",
      "http://192brewing.com/ Home - 192 Brewing Company\n",
      "http://2016.splashcon.org SPLASH 2016\n",
      "http://2017.splashcon.org/track/splash-2017-OOPSLA SPLASH 2017 - OOPSLA - SPLASH 2017\n",
      "http://2018.caaconference.org#content CAA 2018 Conference | CAA 2018\n",
      "http://2018.caaconference.org/2017/07/14/call-for-workshops/#content Call for workshops | CAA 2018 Conference\n",
      "http://2018.caaconference.org/2017/07/14/welcome-to-tubingen/#content Welcome to Tübingen | CAA 2018 Conference\n",
      "http://2018.caaconference.org/2018/01/24/preliminary-program-caa-2018-online/#content Preliminary program of the CAA 2018 online! | CAA 2018 Conference\n",
      "http://2018.caaconference.org/2018/01/30/early-bird-registration-will-open-tomorrow/#content Last chance for early-bird registration! | CAA 2018 Conference\n",
      "http://2018.caaconference.org/category/uncategorized/#content Uncategorized | CAA 2018 Conference\n",
      "http://2018.caaconference.org/category/uncategorized/page/2/ Uncategorized | CAA 2018 Conference | Page 2\n",
      "http://2018.caaconference.org/nick-ryan-bursary/#content Nick Ryan Bursary | CAA 2018 Conference\n",
      "http://2018.caaconference.org/posters/#content Posters | CAA 2018 Conference\n",
      "http://2018.caaconference.org/preliminary-program/#content Preliminary program of the CAA 2018 online! | CAA 2018 Conference\n",
      "http://2cyr.com/emaps-bg.php?q=-48.5178,-170.9993 404 Not Found\n",
      "http://2cyr.com/emaps-bg.php?q=48.17,9.5 404 Not Found\n",
      "http://2cyr.com/emaps-bg.php?q=48.51578,9.055846 404 Not Found\n",
      "http://2cyr.com/emaps-bg.php?q=48.5178,9.0007 404 Not Found\n",
      "http://2cyr.com/emaps-bg.php?q=48.5182,9.04339 404 Not Found\n",
      "http://2cyr.com/emaps-bg.php?q=48.521455,9.056392 404 Not Found\n",
      "http://2cyr.com/emaps-bg.php?q=48.52473,9.03336 404 Not Found\n",
      "http://2cyr.com/emaps-bg.php?q=48.5395,9.0359 404 Not Found\n",
      "http://2cyr.com/emaps-bg.php?q=48.54171,9.047359 404 Not Found\n",
      "http://2cyr.com/emaps-bg.php?q=48.541944,9.047778 404 Not Found\n",
      "http://aad.informatik.uni-freiburg.de/people/lindauer/index.html Page not found – Machine Learning Lab\n",
      "http://abcnews.go.com/Lifestyle/craft-beers-renaissance-continues-grow/story?id=20117767 Trading Buds for Micro-Brewskis: Craft Beer's Renaissance Continues to Grow - ABC News\n",
      "http://aboutus.com/Category:3D Category:3D - AboutUs\n",
      "http://aboutus.com/Category:Logo Category:Logo - AboutUs\n",
      "http://aboutus.com/PixelHirn.de pixelhirn :: pixel im hirn - AboutUs\n",
      "http://aboutus.com/Special:SiteAnalysis?q=PixelHirn.de&action=siteSpeed Site Speed Analysis for PIXELHIRN.DE - AboutUs\n",
      "http://aboutus.com/Special:UserLogin?returnto=B64:L2luZGV4LnBocD90aXRsZT1Jdk9sQXZldHRpLmRlJmRpZmY9bmV4dCZvbGRpZD0xMzk2MTY2JmFjdGlvbj1lZGl0 Log in - AboutUs\n",
      "http://aboutus.com/index.php?title=Category:Mediendesign&action=edit&redlink=1 Category:Mediendesign - AboutUs\n",
      "http://aboutus.com/index.php?title=Special:CreateAccount&returnto=IvOlAvetti.de&returntoquery=diff%3Dnext%26oldid%3D1396166 Create account - AboutUs\n",
      "http://academictree.org/anatomy/peopleinfo.php?pid=1674 Anatomy Tree - Valentino  Braitenberg\n",
      "http://academictree.org/anatomy/tree.php?pid=807496&fontsize=1&pnodecount=4&cnodecount=1 Anatomy Tree - Henri Marie Ducrotay de Blainville Family Tree\n",
      "http://academictree.org/anatomy/tree.php?pid=931357&pnodecount=3&cnodecount=2 Anatomy Tree - Theodor  Langhans Family Tree\n",
      "http://academictree.org/astronomy/distance.php?pid1=713019 Astronomy Tree - Connection\n",
      "http://academictree.org/astronomy/reporterror.php?pid=491209&refurl=https%3A%2F%2Facademictree.org%2Fastronomy%2Ftree.php%3Fpid%3D491209%26fontsize%3D1%26pnodecount%3D4%26cnodecount%3D2 Astronomy Tree - Report error\n",
      "http://academictree.org/astronomy/tree.php?pid=234505&fontsize=1&pnodecount=4&cnodecount=2 Astronomy Tree - Kenneth Harrison Hicks Family Tree\n",
      "http://academictree.org/astronomy/tree.php?pid=234507&fontsize=1&pnodecount=4&cnodecount=3 Astronomy Tree - John Guy Lajoie Family Tree\n",
      "http://academictree.org/astronomy/tree.php?pid=300434&fontsize=1&pnodecount=3&cnodecount=3 Astronomy Tree - Steven T. Manson Family Tree\n",
      "http://academictree.org/astronomy/tree.php?pid=491208&fontsize=1&pnodecount=4&cnodecount=2 Astronomy Tree - Thomas Eugene Beach Family Tree\n",
      "http://academictree.org/astronomy/tree.php?pid=717256&fontsize=1&pnodecount=4&cnodecount=2 Astronomy Tree - J. Anthony Burke Family Tree\n",
      "http://academictree.org/astronomy/tree.php?pid=753852&fontsize=1&pnodecount=6&cnodecount=2 Astronomy Tree - Valentin  Thau Family Tree\n",
      "http://academictree.org/astronomy/tree.php?pid=757245&fontsize=1&pnodecount=5&cnodecount=2 Astronomy Tree - Franz Xaver von Zach Family Tree\n",
      "http://academictree.org/astronomy/tree.php?pid=804512&fontsize=1&pnodecount=4&cnodecount=2 Astronomy Tree - Michael Jessop Smyth Family Tree\n",
      "http://academictree.org/astronomy/tree.php?pid=822802&fontsize=1&pnodecount=4&cnodecount=2 Astronomy Tree - Edgar Thomas Snowden Appleyard Family Tree\n",
      "http://academictree.org/cellbio/tree.php?pid=250995&fontsize=1&pnodecount=5&cnodecount=2 Cell Biology Tree - Sarah J. Liljegren Family Tree\n",
      "http://academictree.org/cellbio/tree.php?pid=725768&fontsize=1&pnodecount=4&cnodecount=2 Cell Biology Tree - Albert  Siegel Family Tree\n",
      "http://academictree.org/cellbio/tree.php?pid=768948&fontsize=1&pnodecount=5&cnodecount=2 Cell Biology Tree - Shahid S. Siddiqui Family Tree\n",
      "http://academictree.org/cellbio/tree.php?pid=771166&fontsize=1&pnodecount=4&cnodecount=2 Cell Biology Tree - Paul Harris O'Lague Family Tree\n",
      "http://academictree.org/cellbio/tree.php?pid=816858&pnodecount=4&cnodecount=2 Cell Biology Tree - Lawrence B. Dumas Family Tree\n",
      "http://academictree.org/cellbio/tree.php?pid=816859&fontsize=1&pnodecount=4&cnodecount=2 Cell Biology Tree - Harinder  Singh Family Tree\n",
      "http://academictree.org/chemistry/distance.php?pid1=619 Chemistry Tree - Connection\n",
      "http://academictree.org/chemistry/peopleinfo.php?pid=756992 Chemistry Tree - Harry H. Sobotka\n",
      "http://academictree.org/chemistry/reporterror.php?pid=72689&refurl=https%3A%2F%2Facademictree.org%2Fchemistry%2Ftree.php%3Fpid%3D72689%26fontsize%3D1%26pnodecount%3D4%26cnodecount%3D2 Chemistry Tree - Report error\n",
      "http://academictree.org/chemistry/tree.php?pid=100137&fontsize=1&pnodecount=5&cnodecount=2 Chemistry Tree - Wade A. Bushman Family Tree\n",
      "http://academictree.org/chemistry/tree.php?pid=109039&fontsize=1&pnodecount=5&cnodecount=2 Chemistry Tree - Catherine E. Huang Family Tree\n",
      "http://academictree.org/chemistry/tree.php?pid=115030&fontsize=1&pnodecount=5&cnodecount=2 Chemistry Tree - D. James  Morré Family Tree\n",
      "http://academictree.org/chemistry/tree.php?pid=1254&fontsize=1&pnodecount=3&cnodecount=1 Chemistry Tree - Russell Henry Chittenden Family Tree\n",
      "http://academictree.org/chemistry/tree.php?pid=13138&fontsize=1&pnodecount=5&cnodecount=2 Chemistry Tree - David  Baltimore Family Tree\n",
      "http://academictree.org/chemistry/tree.php?pid=135037&fontsize=1&pnodecount=4&cnodecount=2 Chemistry Tree - John J. Bellizzi Family Tree\n",
      "http://academictree.org/chemistry/tree.php?pid=140841&fontsize=1&pnodecount=4&cnodecount=2 Chemistry Tree - Daniel  Adamek Family Tree\n",
      "http://academictree.org/chemistry/tree.php?pid=141847&fontsize=1&pnodecount=4&cnodecount=2 Chemistry Tree - Cheom-Gil  Cheong Family Tree\n",
      "http://academictree.org/chemistry/tree.php?pid=141851&fontsize=1&pnodecount=4&cnodecount=2 Chemistry Tree - Sean A. Newmister Family Tree\n",
      "http://academictree.org/chemistry/tree.php?pid=145822&fontsize=1&pnodecount=4&cnodecount=2 Chemistry Tree - Jianping  Lin Family Tree\n",
      "http://academictree.org/chemistry/tree.php?pid=15285&fontsize=1&pnodecount=4&cnodecount=2 Chemistry Tree - Frederick Gowland Hopkins Family Tree\n",
      "http://academictree.org/chemistry/tree.php?pid=156922&fontsize=1&pnodecount=4&cnodecount=1 Chemistry Tree - Reginald Oliver Herzog Family Tree\n",
      "http://academictree.org/chemistry/tree.php?pid=16262&fontsize=1&pnodecount=4&cnodecount=2 Chemistry Tree - Michael B. Eisen Family Tree\n",
      "http://academictree.org/chemistry/tree.php?pid=18311&fontsize=1&pnodecount=4&cnodecount=2 Chemistry Tree - Feodor  Lynen Family Tree\n",
      "http://academictree.org/chemistry/tree.php?pid=21399&fontsize=1&pnodecount=4&cnodecount=2 Chemistry Tree - Moses  Gomberg Family Tree\n",
      "http://academictree.org/chemistry/tree.php?pid=21402&cnodecount=3&pnodecount=4 Chemistry Tree - Johannes  Thiele Family Tree\n",
      "http://academictree.org/chemistry/tree.php?pid=24618&fontsize=1&pnodecount=5&cnodecount=3 Chemistry Tree - Isidor Isaac Rabi Family Tree\n",
      "http://academictree.org/chemistry/tree.php?pid=24623&fontsize=1&pnodecount=5&cnodecount=2 Chemistry Tree - George C. Glockler Family Tree\n",
      "http://academictree.org/chemistry/tree.php?pid=248814&fontsize=1&pnodecount=4&cnodecount=3 Chemistry Tree - Lunsheng  Zhang Family Tree\n",
      "http://academictree.org/chemistry/tree.php?pid=248817&fontsize=1&pnodecount=4&cnodecount=3 Chemistry Tree - Junhua  Xin Family Tree\n",
      "http://academictree.org/chemistry/tree.php?pid=251024&fontsize=1&pnodecount=4&cnodecount=2 Chemistry Tree - Karolin  Luger Family Tree\n",
      "http://academictree.org/chemistry/tree.php?pid=25173&fontsize=1&pnodecount=4&cnodecount=2 Chemistry Tree - Amos  Eaton Family Tree\n",
      "http://academictree.org/chemistry/tree.php?pid=25324&fontsize=1&pnodecount=5&cnodecount=2 Chemistry Tree - Harold Brewer Hartley Family Tree\n",
      "http://academictree.org/chemistry/tree.php?pid=25341&fontsize=1&pnodecount=5&cnodecount=2 Chemistry Tree - Benjamin Collins Brodie Family Tree\n",
      "http://academictree.org/chemistry/tree.php?pid=31792&fontsize=1&pnodecount=4&cnodecount=2 Chemistry Tree - Kenneth C. Holmes Family Tree\n",
      "http://academictree.org/chemistry/tree.php?pid=33692&fontsize=1&pnodecount=4&cnodecount=3 Chemistry Tree - Richard N. Zare Family Tree\n",
      "http://academictree.org/chemistry/tree.php?pid=35786&fontsize=1&pnodecount=5&cnodecount=2 Chemistry Tree - Johan  Afzelius Family Tree\n",
      "http://academictree.org/chemistry/tree.php?pid=35788&fontsize=1&pnodecount=4&cnodecount=2 Chemistry Tree - Bengt  Ferrner Family Tree\n",
      "http://academictree.org/chemistry/tree.php?pid=36962&fontsize=1&pnodecount=4&cnodecount=2 Chemistry Tree - Martinus Willem Beijerinck Family Tree\n",
      "http://academictree.org/chemistry/tree.php?pid=38025&fontsize=1&pnodecount=4&cnodecount=3 Chemistry Tree - Cyril  Domb Family Tree\n",
      "http://academictree.org/chemistry/tree.php?pid=396002&fontsize=1&pnodecount=5&cnodecount=3 Chemistry Tree - Daniel Joseph Cosgrove Family Tree\n",
      "http://academictree.org/chemistry/tree.php?pid=399594&fontsize=1&pnodecount=4&cnodecount=2 Chemistry Tree - Jue  Chen Family Tree\n",
      "http://academictree.org/chemistry/tree.php?pid=4338&fontsize=1&pnodecount=4&cnodecount=2 Chemistry Tree - Robert B. Woodward Family Tree\n",
      "http://academictree.org/chemistry/tree.php?pid=476&fontsize=1&pnodecount=4&cnodecount=2 Chemistry Tree - Hagai  Rottenberg Family Tree\n",
      "http://academictree.org/chemistry/tree.php?pid=47659&fontsize=1&pnodecount=4&cnodecount=2 Chemistry Tree - Gusztav  Buchböck Family Tree\n",
      "http://academictree.org/chemistry/tree.php?pid=495404&fontsize=1&pnodecount=4&cnodecount=3 Chemistry Tree - Bharat G. Reddy Family Tree\n",
      "http://academictree.org/chemistry/tree.php?pid=51874&cnodecount=3&pnodecount=4 Chemistry Tree - Adolphe  Wurtz Family Tree\n",
      "http://academictree.org/chemistry/tree.php?pid=51874&fontsize=1&pnodecount=4&cnodecount=3 Chemistry Tree - Adolphe  Wurtz Family Tree\n",
      "http://academictree.org/chemistry/tree.php?pid=51874&fontsize=1&pnodecount=5&cnodecount=2 Chemistry Tree - Adolphe  Wurtz Family Tree\n",
      "http://academictree.org/chemistry/tree.php?pid=52039&fontsize=1&pnodecount=4&cnodecount=2 Chemistry Tree - Eric Keightley Rideal Family Tree\n",
      "http://academictree.org/chemistry/tree.php?pid=52040&fontsize=1&pnodecount=4&cnodecount=2 Chemistry Tree - C.J.P.N. Richard  Anschütz Family Tree\n",
      "http://academictree.org/chemistry/tree.php?pid=52108&fontsize=1&pnodecount=4&cnodecount=2 Chemistry Tree - Max S. Dunn Family Tree\n",
      "http://academictree.org/chemistry/tree.php?pid=531316&fontsize=1&pnodecount=4&cnodecount=3 Chemistry Tree - John D. Piper Family Tree\n",
      "http://academictree.org/chemistry/tree.php?pid=53791&fontsize=1&pnodecount=4&cnodecount=2 Chemistry Tree - Forris Jewett Moore Family Tree\n",
      "http://academictree.org/chemistry/tree.php?pid=53996&fontsize=1&pnodecount=4&cnodecount=3 Chemistry Tree - Carl  von Voit Family Tree\n",
      "http://academictree.org/chemistry/tree.php?pid=54073&fontsize=1&pnodecount=5&cnodecount=3 Chemistry Tree - Robert G. Parr Family Tree\n",
      "http://academictree.org/chemistry/tree.php?pid=5483&fontsize=1&pnodecount=4&cnodecount=3 Chemistry Tree - Arthur A. Noyes Family Tree\n",
      "http://academictree.org/chemistry/tree.php?pid=55521&fontsize=1&pnodecount=4&cnodecount=2 Chemistry Tree - Joseph W. Kennedy Family Tree\n",
      "http://academictree.org/chemistry/tree.php?pid=55647&fontsize=1&pnodecount=5&cnodecount=2 Chemistry Tree - Jay K. Kochi Family Tree\n",
      "http://academictree.org/chemistry/tree.php?pid=56114&fontsize=1&pnodecount=5&cnodecount=3 Chemistry Tree - Alanna  Schepartz Family Tree\n",
      "http://academictree.org/chemistry/tree.php?pid=56527&fontsize=1&pnodecount=4&cnodecount=2 Chemistry Tree - Wilder Dwight Bancroft Family Tree\n",
      "http://academictree.org/chemistry/tree.php?pid=56570&fontsize=1&pnodecount=4&cnodecount=1 Chemistry Tree - William  Gregory Family Tree\n",
      "http://academictree.org/chemistry/tree.php?pid=56783&fontsize=1&pnodecount=4&cnodecount=3 Chemistry Tree - Lars  Onsager Family Tree\n",
      "http://academictree.org/chemistry/tree.php?pid=56867&fontsize=1&pnodecount=4&cnodecount=2 Chemistry Tree - John W. Hooper Family Tree\n",
      "http://academictree.org/chemistry/tree.php?pid=57603&fontsize=1&pnodecount=4&cnodecount=2 Chemistry Tree - Emil  Knövenagel Family Tree\n",
      "http://academictree.org/chemistry/tree.php?pid=58812&fontsize=1&pnodecount=4&cnodecount=2 Chemistry Tree - Eric  Hutchinson Family Tree\n",
      "http://academictree.org/chemistry/tree.php?pid=613&fontsize=1&pnodecount=3&cnodecount=2 Chemistry Tree - Herman  Boerhaave Family Tree\n",
      "http://academictree.org/chemistry/tree.php?pid=6198&fontsize=1&pnodecount=4&cnodecount=3 Chemistry Tree - William Johnson Sollas Family Tree\n",
      "http://academictree.org/chemistry/tree.php?pid=62184&fontsize=1&pnodecount=5&cnodecount=2 Chemistry Tree - Don C. Wiley Family Tree\n",
      "http://academictree.org/chemistry/tree.php?pid=62664&fontsize=1&pnodecount=5&cnodecount=2 Chemistry Tree - Stephen C. Harrison Family Tree\n",
      "http://academictree.org/chemistry/tree.php?pid=62736&fontsize=1&pnodecount=4&cnodecount=2 Chemistry Tree - Carl O. Pabo Family Tree\n",
      "http://academictree.org/chemistry/tree.php?pid=64606&fontsize=1&pnodecount=5&cnodecount=2 Chemistry Tree - Geraldine  Seydoux Family Tree\n",
      "http://academictree.org/chemistry/tree.php?pid=66911&fontsize=1&pnodecount=4&cnodecount=2 Chemistry Tree - Walter  Eckhart Family Tree\n",
      "http://academictree.org/chemistry/tree.php?pid=67033&fontsize=1&pnodecount=4&cnodecount=3 Chemistry Tree - William Spencer Hutchinson Family Tree\n",
      "http://academictree.org/chemistry/tree.php?pid=676610&fontsize=1&pnodecount=4&cnodecount=3 Chemistry Tree - W. Boyd Campbell Family Tree\n",
      "http://academictree.org/chemistry/tree.php?pid=703151&fontsize=1&pnodecount=4&cnodecount=2 Chemistry Tree - Joe  Nuth Family Tree\n",
      "http://academictree.org/chemistry/tree.php?pid=72002&fontsize=1&pnodecount=4&cnodecount=2 Chemistry Tree - Hermann Paul Meissner Family Tree\n",
      "http://academictree.org/chemistry/tree.php?pid=723585&fontsize=1&pnodecount=3&cnodecount=2 Chemistry Tree - Jiaxi  Lu Family Tree\n",
      "http://academictree.org/chemistry/tree.php?pid=72689&pnodecount=2&cnodecount=2 Chemistry Tree - Gleb V. Anrep Family Tree\n",
      "http://academictree.org/chemistry/tree.php?pid=72689&pnodecount=3&cnodecount=2 Chemistry Tree - Gleb V. Anrep Family Tree\n",
      "http://academictree.org/chemistry/tree.php?pid=732697&pnodecount=3&cnodecount=1 Chemistry Tree - Francis Robert Japp Family Tree\n",
      "http://academictree.org/chemistry/tree.php?pid=733848&fontsize=1&pnodecount=4&cnodecount=2 Chemistry Tree - Robert  Bandurski Family Tree\n",
      "http://academictree.org/chemistry/tree.php?pid=73567&fontsize=1&pnodecount=4&cnodecount=3 Chemistry Tree - Takehiko  Shimanouchi Family Tree\n",
      "http://academictree.org/chemistry/tree.php?pid=739847&pnodecount=5&cnodecount=3 Chemistry Tree - Heinz  Bässler Family Tree\n",
      "http://academictree.org/chemistry/tree.php?pid=742903&fontsize=1&pnodecount=4&cnodecount=2 Chemistry Tree - Zdenko Hans Skraup Family Tree\n",
      "http://academictree.org/chemistry/tree.php?pid=746618&fontsize=1&pnodecount=4&cnodecount=2 Chemistry Tree - Friedrich Adolph August Struve Family Tree\n",
      "http://academictree.org/chemistry/tree.php?pid=748717&fontsize=1&pnodecount=4&cnodecount=2 Chemistry Tree - Eugen  Lucius Family Tree\n",
      "http://academictree.org/chemistry/tree.php?pid=752768&fontsize=1&pnodecount=4&cnodecount=1 Chemistry Tree - Charles  Graham Family Tree\n",
      "http://academictree.org/chemistry/tree.php?pid=755247&pnodecount=3&cnodecount=2 Chemistry Tree - Henry Forster Morley Family Tree\n",
      "http://academictree.org/chemistry/tree.php?pid=758260&fontsize=1&pnodecount=4&cnodecount=3 Chemistry Tree - Shankarananda  Mukherjee Family Tree\n",
      "http://academictree.org/chemistry/tree.php?pid=772887&fontsize=1&pnodecount=3&cnodecount=2 Chemistry Tree - Steven C. Harrison Family Tree\n",
      "http://academictree.org/chemistry/tree.php?pid=778431&fontsize=1&pnodecount=4&cnodecount=2 Chemistry Tree - Igor Igorevich Wagner Family Tree\n",
      "http://academictree.org/chemistry/tree.php?pid=786605&fontsize=1&pnodecount=4&cnodecount=3 Chemistry Tree - Hongbo  Zhang Family Tree\n",
      "http://academictree.org/chemistry/tree.php?pid=78974&cnodecount=1&pnodecount=4 Chemistry Tree - Alfred  Gilman Family Tree\n",
      "http://academictree.org/chemistry/tree.php?pid=79207&cnodecount=2&pnodecount=5 Chemistry Tree - Marcin J. Skwark Family Tree\n",
      "http://academictree.org/chemistry/tree.php?pid=79616&fontsize=1&pnodecount=4&cnodecount=3 Chemistry Tree - Ernst  Ludwig Family Tree\n",
      "http://academictree.org/chemistry/tree.php?pid=800649&fontsize=1&pnodecount=5&cnodecount=2 Chemistry Tree - Muriel Louise Tomlinson Family Tree\n",
      "http://academictree.org/chemistry/tree.php?pid=803176&fontsize=1&pnodecount=4&cnodecount=3 Chemistry Tree - William T. Cave Family Tree\n",
      "http://academictree.org/chemistry/tree.php?pid=805899&fontsize=1&pnodecount=5&cnodecount=3 Chemistry Tree - Stefan  Günster Family Tree\n",
      "http://academictree.org/chemistry/tree.php?pid=81390&fontsize=1&pnodecount=5&cnodecount=2 Chemistry Tree - Yoshito  Kaziro Family Tree\n",
      "http://academictree.org/chemistry/tree.php?pid=814293&fontsize=1&pnodecount=5&cnodecount=3 Chemistry Tree - Jyoti  Chattopadhyaya Family Tree\n",
      "http://academictree.org/chemistry/tree.php?pid=819997&fontsize=1&pnodecount=4&cnodecount=1 Chemistry Tree - Franz Leopold Sonnenschein Family Tree\n",
      "http://academictree.org/chemistry/tree.php?pid=82098&fontsize=1&pnodecount=4&cnodecount=2 Chemistry Tree - Andreas Sigismund Marggraf Family Tree\n",
      "http://academictree.org/chemistry/tree.php?pid=830453&cnodecount=4&pnodecount=4 Chemistry Tree - Peter  Hildebrandt Family Tree\n",
      "http://academictree.org/chemistry/tree.php?pid=83733&fontsize=1&pnodecount=4&cnodecount=3 Chemistry Tree - Harmon  Craig Family Tree\n",
      "http://academictree.org/chemistry/tree.php?pid=840606&fontsize=1&pnodecount=4&cnodecount=2 Chemistry Tree - L. Gordon Paul Family Tree\n",
      "http://academictree.org/chemistry/tree.php?pid=84974&fontsize=1&pnodecount=5&cnodecount=2 Chemistry Tree - Osman  Achmatowicz Family Tree\n",
      "http://academictree.org/chemistry/tree.php?pid=859537&fontsize=1&pnodecount=4&cnodecount=2 Chemistry Tree - William  Dittmar Family Tree\n",
      "http://academictree.org/chemistry/tree.php?pid=863545&fontsize=1&pnodecount=4&cnodecount=3 Chemistry Tree - Donald Burton Wetlaufer Family Tree\n",
      "http://academictree.org/chemistry/tree.php?pid=865234&fontsize=1&pnodecount=4&cnodecount=3 Chemistry Tree - Lodewijk Theodorus Reicher Family Tree\n",
      "http://academictree.org/chemistry/tree.php?pid=900302&fontsize=1&pnodecount=4&cnodecount=2 Chemistry Tree - Eli  Worth Family Tree\n",
      "http://academictree.org/chemistry/tree.php?pid=907783&fontsize=1&pnodecount=4&cnodecount=3 Chemistry Tree - Lloyd Montgomery Pidgeon Family Tree\n",
      "http://academictree.org/chemistry/tree.php?pid=909534&fontsize=1&pnodecount=5&cnodecount=2 Chemistry Tree - Harry J. Deuel Family Tree\n",
      "http://academictree.org/chemistry/tree.php?pid=94222&fontsize=1&pnodecount=4&cnodecount=2 Chemistry Tree - John A. Robinson Family Tree\n",
      "http://academictree.org/chemistry/tree.php?pid=97300&fontsize=1&pnodecount=5&cnodecount=4 Chemistry Tree - Seyed-Fakhreddin  Torabi Family Tree\n",
      "http://academictree.org/computerscience/distance.php?pid1=516627 Computer Science Tree - Connection\n",
      "http://academictree.org/computerscience/tree.php?pid=-1 Computer Science Tree - Klaus-Jörn  Lange Family Tree\n",
      "http://academictree.org/computerscience/tree.php?pid=411706&fontsize=1&pnodecount=5&cnodecount=2 Computer Science Tree - Andrew  Witkin Family Tree\n",
      "http://academictree.org/computerscience/tree.php?pid=516627&cnodecount=1&pnodecount=4 Computer Science Tree - Amnon  Shashua Family Tree\n",
      "http://academictree.org/computerscience/tree.php?pid=771852&fontsize=1&pnodecount=5&cnodecount=2 Computer Science Tree - Onur  Varol Family Tree\n",
      "http://academictree.org/computerscience/tree.php?pid=783786&cnodecount=4&pnodecount=4 Computer Science Tree - Enric  Junqué de Fortuny Family Tree\n",
      "http://academictree.org/computerscience/tree.php?pid=791622&fontsize=1&pnodecount=4&cnodecount=2 Computer Science Tree - Andriy  Mnih Family Tree\n",
      "http://academictree.org/computerscience/tree.php?pid=893931&fontsize=1&pnodecount=4&cnodecount=2 Computer Science Tree - Oliver  Ernst Family Tree\n",
      "http://academictree.org/csd/peopleinfo.php?pid=12262 CSD Tree - Brian Manning Johnstone\n",
      "http://academictree.org/csd/peopleinfo.php?pid=75905 CSD Tree - Jesus P.F. Rodriguez-Jorge\n",
      "http://academictree.org/dev/tree.php?pid=921337&fontsize=1&pnodecount=4&cnodecount=2 DevTree - Benjamin Freeman Kingsbury Family Tree\n",
      "http://academictree.org/econ/reporterror.php?pid=792266&refurl=https%3A%2F%2Facademictree.org%2Fecon%2Ftree.php%3Fpid%3D792266%26fontsize%3D1%26pnodecount%3D4%26cnodecount%3D3 Econometree - Report error\n",
      "http://academictree.org/econ/tree.php?pid=743731&pnodecount=3&cnodecount=2 Econometree - Karl Wolfgang Christoph Schüz Family Tree\n",
      "http://academictree.org/etree/tree.php?pid=144003&fontsize=1&pnodecount=4&cnodecount=2 E-Tree - J. Sean Humbert Family Tree\n",
      "http://academictree.org/etree/tree.php?pid=566337&fontsize=1&pnodecount=4&cnodecount=2 E-Tree - Henk L. C. Meuzelaar Family Tree\n",
      "http://academictree.org/etree/tree.php?pid=725547&fontsize=1&pnodecount=4&cnodecount=2 E-Tree - Nathan Mortimore Newmark Family Tree\n",
      "http://academictree.org/etree/tree.php?pid=833404&fontsize=1&pnodecount=5&cnodecount=2 E-Tree - Ernst  Mohr Family Tree\n",
      "http://academictree.org/etree/tree.php?pid=892606&fontsize=1&pnodecount=4&cnodecount=3 E-Tree - Branimir Francis von Turkovich Family Tree\n",
      "http://academictree.org/evolution/reporterror.php?pid=852594&refurl=https%3A%2F%2Facademictree.org%2Fevolution%2Ftree.php%3Fpid%3D852594%26fontsize%3D1%26pnodecount%3D4%26cnodecount%3D2 Evolution Tree - Report error\n",
      "http://academictree.org/evolution/tree.php?pid=36112&fontsize=1&pnodecount=4&cnodecount=2 Evolution Tree - Florentino  Ameghino Family Tree\n",
      "http://academictree.org/evolution/tree.php?pid=44738&cnodecount=1&pnodecount=4 Evolution Tree - William Diller Matthew Family Tree\n",
      "http://academictree.org/evolution/tree.php?pid=57562&fontsize=1&pnodecount=4&cnodecount=2 Evolution Tree - Joseph  Leidy Family Tree\n",
      "http://academictree.org/evolution/tree.php?pid=67957&fontsize=1&pnodecount=4&cnodecount=2 Evolution Tree - Steven E. Finkel Family Tree\n",
      "http://academictree.org/evolution/tree.php?pid=74697&fontsize=1&pnodecount=4&cnodecount=2 Evolution Tree - Leigh  Van Valen Family Tree\n",
      "http://academictree.org/evolution/tree.php?pid=80631&fontsize=1&pnodecount=4&cnodecount=3 Evolution Tree - Jean-Baptiste  de Lamarck Family Tree\n",
      "http://academictree.org/evolution/tree.php?pid=857667&fontsize=1&pnodecount=3&cnodecount=3 Evolution Tree - Thassyo da Silva Family Tree\n",
      "http://academictree.org/evolution/tree.php?pid=930597&fontsize=1&pnodecount=4&cnodecount=2 Evolution Tree - David Henry Wenrich Family Tree\n",
      "http://academictree.org/flytree/tree.php?pid=11044&fontsize=1&pnodecount=4&cnodecount=2 FlyTree - Edward  Novitski Family Tree\n",
      "http://academictree.org/flytree/tree.php?pid=11047&fontsize=1&pnodecount=4&cnodecount=1 FlyTree - Alfred Henry Sturtevant Family Tree\n",
      "http://academictree.org/flytree/tree.php?pid=11047&fontsize=1&pnodecount=5&cnodecount=2 FlyTree - Alfred Henry Sturtevant Family Tree\n",
      "http://academictree.org/flytree/tree.php?pid=13588&fontsize=1&pnodecount=4&cnodecount=2 FlyTree - Dan  Lindsley Family Tree\n",
      "http://academictree.org/flytree/tree.php?pid=13639&fontsize=1&pnodecount=5&cnodecount=2 FlyTree - John  Williamson Family Tree\n",
      "http://academictree.org/flytree/tree.php?pid=13998&fontsize=1&pnodecount=4&cnodecount=2 FlyTree - Ralph  Hillman Family Tree\n",
      "http://academictree.org/flytree/tree.php?pid=13999&fontsize=1&pnodecount=4&cnodecount=2 FlyTree - Kulbir S. Gill Family Tree\n",
      "http://academictree.org/flytree/tree.php?pid=146514&cnodecount=3&pnodecount=4 FlyTree - J Steven de Belle Family Tree\n",
      "http://academictree.org/flytree/tree.php?pid=146529&fontsize=1&pnodecount=2&cnodecount=2 FlyTree - Brian S. Dunkelberger Family Tree\n"
     ]
    }
   ],
   "source": [
    "# Print the length of the titles database\n",
    "# also print some example titles and urls\n",
    "\n",
    "count = 0\n",
    "for key in titles_db.keys():\n",
    "    count += 1\n",
    "print('Number of titles in the database:', count)\n",
    "\n",
    "count = 0\n",
    "for key, value in titles_db.items():\n",
    "    print(key, value)\n",
    "    count += 1\n",
    "    if count > 200:\n",
    "        break"
   ]
  },
  {
   "cell_type": "code",
   "execution_count": 6,
   "metadata": {},
   "outputs": [
    {
     "name": "stderr",
     "output_type": "stream",
     "text": [
      "0it [00:00, ?it/s]"
     ]
    },
    {
     "name": "stderr",
     "output_type": "stream",
     "text": [
      "2498277it [30:32, 1363.64it/s] "
     ]
    },
    {
     "name": "stdout",
     "output_type": "stream",
     "text": [
      "Total items: 2498277\n",
      "Visited items: 1068359\n",
      "Rejected items: 1429918\n",
      "All discovered items: 2498277\n"
     ]
    },
    {
     "name": "stderr",
     "output_type": "stream",
     "text": [
      "\n"
     ]
    }
   ],
   "source": [
    "total_items = 0\n",
    "none_items = 0\n",
    "visited_items = set()\n",
    "rejected_items = set()\n",
    "\n",
    "all_discovered_items = set()\n",
    "\n",
    "for key, value in tqdm(db.items()):\n",
    "    total_items += 1\n",
    "    all_discovered_items.add(key)\n",
    "\n",
    "    if value is None:\n",
    "        none_items += 1\n",
    "        rejected_items.add(key)\n",
    "        continue\n",
    "\n",
    "    if check_url_relevance(value) and detect(value.replace('\\n', \" \"))['lang'] == 'en':\n",
    "        visited_items.add(key)\n",
    "    else:\n",
    "        rejected_items.add(key)\n",
    "\n",
    "print('Total items:', total_items)\n",
    "print('Visited items:', len(visited_items))\n",
    "print('Rejected items:', len(rejected_items))\n",
    "print('All discovered items:', len(all_discovered_items))\n"
   ]
  },
  {
   "cell_type": "code",
   "execution_count": 12,
   "metadata": {},
   "outputs": [
    {
     "name": "stdout",
     "output_type": "stream",
     "text": [
      "None items: 161223\n"
     ]
    }
   ],
   "source": [
    "print(\"None items:\", none_items)"
   ]
  },
  {
   "cell_type": "code",
   "execution_count": 7,
   "metadata": {},
   "outputs": [],
   "source": [
    "with open('../../data/crawl_state.pkl', 'rb') as f:\n",
    "    cs = pickle.load(f)"
   ]
  },
  {
   "cell_type": "code",
   "execution_count": 13,
   "metadata": {},
   "outputs": [
    {
     "name": "stderr",
     "output_type": "stream",
     "text": [
      "100%|██████████| 2498277/2498277 [00:01<00:00, 1515123.67it/s]\n",
      "100%|██████████| 1068359/1068359 [00:00<00:00, 1641347.85it/s]\n",
      "100%|██████████| 1429918/1429918 [00:00<00:00, 1588567.42it/s]\n"
     ]
    }
   ],
   "source": [
    "for key in tqdm(all_discovered_items):\n",
    "    if key not in cs['all_discovered_urls']:\n",
    "        cs['all_discovered_urls'].add(key)\n",
    "\n",
    "for key in tqdm(visited_items):\n",
    "    if key not in cs['visited']:\n",
    "        cs['visited'].add(key)\n",
    "\n",
    "for key in tqdm(rejected_items):\n",
    "    if key not in cs['rejected']:\n",
    "        cs['rejected'].add(key)\n"
   ]
  },
  {
   "cell_type": "code",
   "execution_count": 17,
   "metadata": {},
   "outputs": [],
   "source": [
    "cs['frontier'].extend(list(cs['to_visit']))\n",
    "cs['to_visit'] = set()"
   ]
  },
  {
   "cell_type": "code",
   "execution_count": 18,
   "metadata": {},
   "outputs": [],
   "source": [
    "with open('../../data/crawl_state.pkl', 'wb') as f:\n",
    "    pickle.dump(cs, f)"
   ]
  },
  {
   "cell_type": "code",
   "execution_count": 5,
   "metadata": {},
   "outputs": [],
   "source": [
    "crawled_urls = set()\n",
    "title_urls = set()\n",
    "\n",
    "for key in db.keys():\n",
    "    crawled_urls.add(key)\n",
    "\n",
    "for key in titles_db.keys():\n",
    "    title_urls.add(key)\n",
    "\n",
    "unavailable_urls = crawled_urls - title_urls\n",
    "\n",
    "with open('../../data/unavailable_urls.pkl', 'wb') as f:\n",
    "    pickle.dump(unavailable_urls, f)"
   ]
  },
  {
   "cell_type": "code",
   "execution_count": 6,
   "metadata": {},
   "outputs": [
    {
     "name": "stdout",
     "output_type": "stream",
     "text": [
      "Unavailable urls: 2511232\n"
     ]
    }
   ],
   "source": [
    "print('Unavailable urls:', len(unavailable_urls))"
   ]
  },
  {
   "cell_type": "code",
   "execution_count": null,
   "metadata": {},
   "outputs": [],
   "source": []
  }
 ],
 "metadata": {
  "kernelspec": {
   "display_name": ".venv",
   "language": "python",
   "name": "python3"
  },
  "language_info": {
   "codemirror_mode": {
    "name": "ipython",
    "version": 3
   },
   "file_extension": ".py",
   "mimetype": "text/x-python",
   "name": "python",
   "nbconvert_exporter": "python",
   "pygments_lexer": "ipython3",
   "version": "3.9.7"
  }
 },
 "nbformat": 4,
 "nbformat_minor": 2
}
